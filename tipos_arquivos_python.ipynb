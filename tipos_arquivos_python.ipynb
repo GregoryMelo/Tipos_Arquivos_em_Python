{
 "cells": [
  {
   "cell_type": "markdown",
   "id": "7f4cc683-591d-4a18-863e-552473207166",
   "metadata": {},
   "source": [
    "# 📂 Tipos de Arquivos em Python\n",
    "\n",
    "O nosso computador representa tudo por meio de bits (zeros e uns), 8 bits pode ser repsentado por 1 byte no sistema ASCII"
   ]
  },
  {
   "cell_type": "markdown",
   "id": "ce96da3c-6dba-4abd-9946-80394fcda051",
   "metadata": {},
   "source": [
    "## Função Open\n",
    "A função open é uma função nativa do Python que retorna para o script um objeto do tipo arquivo, e nnos mostra o conteudo dentro deste objeto"
   ]
  },
  {
   "cell_type": "code",
   "execution_count": 17,
   "id": "e7f4a255-9ab5-4d45-bd07-518644cfd439",
   "metadata": {},
   "outputs": [
    {
     "name": "stdout",
     "output_type": "stream",
     "text": [
      "Sou um Data Scientist!\n",
      "Sou um Data Enginner!\n",
      "Sou um Python Developer!\n",
      "\n",
      "\n"
     ]
    }
   ],
   "source": [
    "#usando a função open para criar um objeto do tipo arquivo\n",
    "# arquivo = open(\"c:\\arquivos\\arquivo_de_texto.txt\")\n",
    "arquivo = open(\"teste.txt\")\n",
    "print(arquivo.read()) # 'read()' serve para printar o conteudo do arquivo\n",
    "print(arquivo.readline()) #  'readline()' serve para ler uma linha por vez\n",
    "print(arquivo.readline())"
   ]
  },
  {
   "cell_type": "code",
   "execution_count": 15,
   "id": "dff18fce-a330-4ea0-adf2-d930634e4d39",
   "metadata": {},
   "outputs": [
    {
     "name": "stdout",
     "output_type": "stream",
     "text": [
      "Ei! Eu consegui transformar meu arquivo em uma <class 'list'> \n",
      "['Sou um Data Enginner!\\n', 'Sou um Data Scientist!\\n', 'Sou um Python Developer!']\n"
     ]
    }
   ],
   "source": [
    "#usando a função open para abrir um arquivo de texto\n",
    "arquivo = open(\"teste.txt\")\n",
    "\n",
    "#Passando o conteúdo do arquivo para uma lista\n",
    "linhas_do_arquivo = arquivo.readlines()\n",
    "\n",
    "#comprovando o tipo do objeto linhas_do_arquivo\n",
    "print(\"Ei! Eu consegui transformar meu arquivo em uma {} \".format(type(linhas_do_arquivo)))\n",
    "\n",
    "#colocando a lista em ordem alfabética\n",
    "linhas_do_arquivo.sort()\n",
    "\n",
    "#Exibindo nossa lista, agora em ordem alfabética\n",
    "print(linhas_do_arquivo)"
   ]
  },
  {
   "cell_type": "markdown",
   "id": "d89921b0-41ac-4805-a751-5a1b7ee58946",
   "metadata": {},
   "source": [
    "## modos de abertura de arquivos no Python.\n",
    "Cada letra ou combinação define como o arquivo será manipulado: apenas leitura, escrita, criação, anexar conteúdo, trabalhar em binário ou texto, além de permitir leitura e escrita ao mesmo tempo.\n",
    "\n",
    "- `'r'` abrir para leitura (modo padrão).  \n",
    "- `'w'` abrir para a escrita, sobrescrevendo o conteúdo.  \n",
    "- `'x'` abrir para a criação de arquivo, gerando uma falha se existir um arquivo de mesmo nome.  \n",
    "- `'a'` abrindo para escrita, anexando o novo conteúdo ao final do conteúdo já existente no arquivo.  \n",
    "- `'b'` abrir em modo binário.  \n",
    "- `'t'` abrir em modo de texto (modo padrão).  \n",
    "- `'+'` abrir para atualização (escrita e leitura).\n",
    "\n",
    "Exemplo:\n",
    "```Python\n",
    "# Armazenando algum texto em uma variavel\n",
    "conteudo = 'Estou inserindo esse conteudo no arquivo de texto'\n",
    "\n",
    "# usando a função open para criar ou abrir um objeto do tipo arquivo\n",
    "arquivo = open(\"c:\\caminho\\arquivo\\texto.txt\", \"w\")\n",
    "\n",
    "# Escrveendo o conteudo no arquivo\n",
    "arquivo.write(conteudo)\n",
    "\n",
    "# Fechando o arquivo\n",
    "arquivo.close()\n",
    "\n",
    "```\n",
    "<hr>"
   ]
  },
  {
   "cell_type": "markdown",
   "id": "010f17a1",
   "metadata": {},
   "source": [
    "# 📊 Trabalhando com CSV no Python\n",
    "\n",
    "O **CSV (Comma Separated Values)** é um dos formatos mais comuns para armazenar dados em forma de tabela.  \n",
    "Cada linha representa um registro e cada coluna representa um campo, separados geralmente por vírgula.\n",
    "\n",
    "\n",
    "No Python podemos manipular CSV de duas formas principais:\n",
    "- Usando a biblioteca nativa `csv` (mais manual).\n",
    "- Usando `pandas` (mais prático para análise de dados).\n"
   ]
  },
  {
   "cell_type": "code",
   "execution_count": 5,
   "id": "69548776",
   "metadata": {},
   "outputs": [
    {
     "name": "stdout",
     "output_type": "stream",
     "text": [
      "Ana tem 23 anos e mora em SÃ£o Paulo\n",
      "Bruno tem 30 anos e mora em Rio de Janeiro\n",
      "Carlos tem 27 anos e mora em Belo Horizonte\n",
      "Daniela tem 22 anos e mora em Curitiba\n",
      "Eduardo tem 35 anos e mora em Porto Alegre\n",
      "Mario tem 40 anos e mora em São Paulo\n",
      "Luigi tem 38 anos e mora em Rio de Janeiro\n"
     ]
    }
   ],
   "source": [
    "import csv\n",
    "\n",
    "# Lendo um CSV com a biblioteca csv\n",
    "with open('exemplo_dados.csv') as arquivo_csv:\n",
    "    leitor_csv = csv.reader(arquivo_csv, delimiter=',')\n",
    "    next(leitor_csv)  # Pula o cabeçalho\n",
    "    for linha in leitor_csv:\n",
    "        print(f\"{linha[1]} tem {linha[2]} anos e mora em {linha[3]}\")"
   ]
  },
  {
   "cell_type": "markdown",
   "id": "50126ba8-c1b7-44cc-88ee-d0068b052d2e",
   "metadata": {},
   "source": [
    "## Escrevendo um arquivo CSV"
   ]
  },
  {
   "cell_type": "code",
   "execution_count": 6,
   "id": "1971c69b",
   "metadata": {},
   "outputs": [
    {
     "name": "stdout",
     "output_type": "stream",
     "text": [
      "Novos registros adicionados!\n"
     ]
    }
   ],
   "source": [
    "import csv\n",
    "\n",
    "# Escrevendo em um CSV\n",
    "dados_novos = [['Mario', '40', 'São Paulo'], ['Luigi', '38', 'Rio de Janeiro']]\n",
    "\n",
    "with open('exemplo_dados.csv', 'a', newline='') as arquivo_csv:\n",
    "    escritor = csv.writer(arquivo_csv, delimiter=',')\n",
    "    for i, linha in enumerate(dados_novos, start=6):  # ids começam do 6\n",
    "        escritor.writerow([i] + linha)\n",
    "\n",
    "print(\"Novos registros adicionados!\")"
   ]
  },
  {
   "cell_type": "markdown",
   "id": "550e9955-d3e0-44be-b5a2-39f1b35d7ff1",
   "metadata": {},
   "source": [
    "<hr>"
   ]
  },
  {
   "cell_type": "markdown",
   "id": "1fbc693a",
   "metadata": {},
   "source": [
    "# 📝 Trabalhando com JSON no Python\n",
    "\n",
    "O **JSON (JavaScript Object Notation)** é um formato muito usado para troca de informações entre aplicações.  \n",
    "Ele é baseado em pares **chave: valor**, parecido com dicionários do Python.\n",
    "\n",
    "Exemplo de JSON:\n",
    "\n",
    "```json\n",
    "{\n",
    "  \"Clark Kent\": {\n",
    "    \"Celular\": \"123456\",\n",
    "    \"Email\": \"super@krypton.com\"\n",
    "  },\n",
    "  \"Bruce Wayne\": {\n",
    "    \"Celular\": \"654321\",\n",
    "    \"Email\": \"bat@caverna.com.br\"\n",
    "  }\n",
    "}\n",
    "\n"
   ]
  },
  {
   "cell_type": "markdown",
   "id": "1db0a0bc-68ad-4850-aeed-e94ff1e88786",
   "metadata": {},
   "source": [
    "No Python, usamos a biblioteca json para manipular esse formato."
   ]
  },
  {
   "cell_type": "code",
   "execution_count": 7,
   "id": "4f525c92",
   "metadata": {},
   "outputs": [
    {
     "name": "stdout",
     "output_type": "stream",
     "text": [
      "{\n",
      "    \"Clark Kent\": {\n",
      "        \"Celular\": \"123456\",\n",
      "        \"Email\": \"super@krypton.com\"\n",
      "    },\n",
      "    \"Bruce Wayne\": {\n",
      "        \"Celular\": \"654321\",\n",
      "        \"Email\": \"bat@caverna.com.br\"\n",
      "    }\n",
      "}\n"
     ]
    }
   ],
   "source": [
    "import json\n",
    "\n",
    "contatos = {\n",
    "    \"Clark Kent\": {\"Celular\": \"123456\", \"Email\": \"super@krypton.com\"},\n",
    "    \"Bruce Wayne\": {\"Celular\": \"654321\", \"Email\": \"bat@caverna.com.br\"}\n",
    "}\n",
    "\n",
    "json_string = json.dumps(contatos, indent=4)\n",
    "print(json_string)"
   ]
  },
  {
   "cell_type": "code",
   "execution_count": 8,
   "id": "2f7cce0e",
   "metadata": {},
   "outputs": [],
   "source": [
    "# Salvando em arquivo JSON\n",
    "with open(\"agenda.json\", \"w\") as f:\n",
    "    json.dump(contatos, f, indent=4)"
   ]
  },
  {
   "cell_type": "code",
   "execution_count": 9,
   "id": "d094bbb6",
   "metadata": {},
   "outputs": [
    {
     "name": "stdout",
     "output_type": "stream",
     "text": [
      "<class 'dict'>\n",
      "{'Clark Kent': {'Celular': '123456', 'Email': 'super@krypton.com'}, 'Bruce Wayne': {'Celular': '654321', 'Email': 'bat@caverna.com.br'}}\n"
     ]
    }
   ],
   "source": [
    "# Lendo de arquivo JSON\n",
    "with open(\"agenda.json\", \"r\") as f:\n",
    "    agenda = json.load(f)\n",
    "\n",
    "print(type(agenda))\n",
    "print(agenda)"
   ]
  },
  {
   "cell_type": "markdown",
   "id": "badd0a82-4c67-4fd4-851e-d70bab2596e5",
   "metadata": {},
   "source": [
    "Também podemos converter um **JSON string → dicionário** usando `json.loads()`:\n",
    "\n",
    "```python\n",
    "texto = '{\"nome\": \"Ana\", \"idade\": 23}'\n",
    "dados = json.loads(texto)\n",
    "print(dados[\"nome\"])  # Ana\n",
    "```\n",
    "<hr>"
   ]
  },
  {
   "cell_type": "markdown",
   "id": "579d63a8",
   "metadata": {},
   "source": [
    "# ✅ Boa prática ao manipular arquivos\n",
    "Sempre feche arquivos abertos ou use o `with open()` que faz isso automaticamente."
   ]
  },
  {
   "cell_type": "code",
   "execution_count": 10,
   "id": "0a971939",
   "metadata": {},
   "outputs": [],
   "source": [
    "# Exemplo com with\n",
    "with open(\"teste.txt\", \"w\") as f:\n",
    "    f.write(\"May the force be with you\")"
   ]
  },
  {
   "cell_type": "code",
   "execution_count": null,
   "id": "9598990f-874b-4531-9d32-382829793f40",
   "metadata": {},
   "outputs": [],
   "source": []
  },
  {
   "cell_type": "code",
   "execution_count": null,
   "id": "55b146d0-ebaf-4c59-9c72-358e84e85275",
   "metadata": {},
   "outputs": [],
   "source": []
  }
 ],
 "metadata": {
  "kernelspec": {
   "display_name": "Python 3 (ipykernel)",
   "language": "python",
   "name": "python3"
  },
  "language_info": {
   "codemirror_mode": {
    "name": "ipython",
    "version": 3
   },
   "file_extension": ".py",
   "mimetype": "text/x-python",
   "name": "python",
   "nbconvert_exporter": "python",
   "pygments_lexer": "ipython3",
   "version": "3.12.7"
  }
 },
 "nbformat": 4,
 "nbformat_minor": 5
}
