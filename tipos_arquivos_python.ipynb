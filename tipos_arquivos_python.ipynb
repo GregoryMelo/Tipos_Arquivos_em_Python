{
 "cells": [
  {
   "cell_type": "markdown",
   "id": "7f4cc683-591d-4a18-863e-552473207166",
   "metadata": {},
   "source": [
    "# 📂 Tipos de Arquivos em Python\n",
    "\n",
    "O nosso computador representa tudo por meio de bits (zeros e uns), 8 bits pode ser repsentado por 1 byte no sistema ASCII"
   ]
  },
  {
   "cell_type": "markdown",
   "id": "ce96da3c-6dba-4abd-9946-80394fcda051",
   "metadata": {},
   "source": [
    "## Função Open\n",
    "A função open é uma função nativa do Python que retorna para o script um objeto do tipo arquivo, e nnos mostra o conteudo dentro deste objeto"
   ]
  },
  {
   "cell_type": "code",
   "execution_count": 17,
   "id": "e7f4a255-9ab5-4d45-bd07-518644cfd439",
   "metadata": {},
   "outputs": [
    {
     "name": "stdout",
     "output_type": "stream",
     "text": [
      "Sou um Data Scientist!\n",
      "Sou um Data Enginner!\n",
      "Sou um Python Developer!\n",
      "\n",
      "\n"
     ]
    }
   ],
   "source": [
    "#usando a função open para criar um objeto do tipo arquivo\n",
    "# arquivo = open(\"c:\\arquivos\\arquivo_de_texto.txt\")\n",
    "arquivo = open(\"teste.txt\")\n",
    "print(arquivo.read()) # 'read()' serve para printar o conteudo do arquivo\n",
    "print(arquivo.readline()) #  'readline()' serve para ler uma linha por vez\n",
    "print(arquivo.readline())"
   ]
  },
  {
   "cell_type": "code",
   "execution_count": 15,
   "id": "dff18fce-a330-4ea0-adf2-d930634e4d39",
   "metadata": {},
   "outputs": [
    {
     "name": "stdout",
     "output_type": "stream",
     "text": [
      "Ei! Eu consegui transformar meu arquivo em uma <class 'list'> \n",
      "['Sou um Data Enginner!\\n', 'Sou um Data Scientist!\\n', 'Sou um Python Developer!']\n"
     ]
    }
   ],
   "source": [
    "#usando a função open para abrir um arquivo de texto\n",
    "arquivo = open(\"teste.txt\")\n",
    "\n",
    "#Passando o conteúdo do arquivo para uma lista\n",
    "linhas_do_arquivo = arquivo.readlines()\n",
    "\n",
    "#comprovando o tipo do objeto linhas_do_arquivo\n",
    "print(\"Ei! Eu consegui transformar meu arquivo em uma {} \".format(type(linhas_do_arquivo)))\n",
    "\n",
    "#colocando a lista em ordem alfabética\n",
    "linhas_do_arquivo.sort()\n",
    "\n",
    "#Exibindo nossa lista, agora em ordem alfabética\n",
    "print(linhas_do_arquivo)"
   ]
  },
  {
   "cell_type": "markdown",
   "id": "d89921b0-41ac-4805-a751-5a1b7ee58946",
   "metadata": {},
   "source": [
    "## modos de abertura de arquivos no Python.\n",
    "Cada letra ou combinação define como o arquivo será manipulado: apenas leitura, escrita, criação, anexar conteúdo, trabalhar em binário ou texto, além de permitir leitura e escrita ao mesmo tempo.\n",
    "\n",
    "- `'r'` abrir para leitura (modo padrão).  \n",
    "- `'w'` abrir para a escrita, sobrescrevendo o conteúdo.  \n",
    "- `'x'` abrir para a criação de arquivo, gerando uma falha se existir um arquivo de mesmo nome.  \n",
    "- `'a'` abrindo para escrita, anexando o novo conteúdo ao final do conteúdo já existente no arquivo.  \n",
    "- `'b'` abrir em modo binário.  \n",
    "- `'t'` abrir em modo de texto (modo padrão).  \n",
    "- `'+'` abrir para atualização (escrita e leitura).\n",
    "\n",
    "Exemplo:\n",
    "```Python\n",
    "# Armazenando algum texto em uma variavel\n",
    "conteudo = 'Estou inserindo esse conteudo no arquivo de texto'\n",
    "\n",
    "# usando a função open para criar ou abrir um objeto do tipo arquivo\n",
    "arquivo = open(\"c:\\caminho\\arquivo\\texto.txt\", \"w\")\n",
    "\n",
    "# Escrveendo o conteudo no arquivo\n",
    "arquivo.write(conteudo)\n",
    "\n",
    "# Fechando o arquivo\n",
    "arquivo.close()\n",
    "\n",
    "```\n",
    "<hr>"
   ]
  },
  {
   "cell_type": "code",
   "execution_count": null,
   "id": "cd32bb11-ca6b-4e00-a69d-86125c3f5dd8",
   "metadata": {},
   "outputs": [],
   "source": []
  }
 ],
 "metadata": {
  "kernelspec": {
   "display_name": "Python 3 (ipykernel)",
   "language": "python",
   "name": "python3"
  },
  "language_info": {
   "codemirror_mode": {
    "name": "ipython",
    "version": 3
   },
   "file_extension": ".py",
   "mimetype": "text/x-python",
   "name": "python",
   "nbconvert_exporter": "python",
   "pygments_lexer": "ipython3",
   "version": "3.12.7"
  }
 },
 "nbformat": 4,
 "nbformat_minor": 5
}
